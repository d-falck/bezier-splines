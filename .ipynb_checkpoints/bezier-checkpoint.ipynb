{
 "cells": [
  {
   "cell_type": "markdown",
   "id": "5f01118e-d8a5-41ef-a2f3-1bebc3688c75",
   "metadata": {},
   "source": [
    "# Bezier curves"
   ]
  },
  {
   "cell_type": "markdown",
   "id": "09ccdfba-8f05-4008-8721-b3ec0eab0226",
   "metadata": {
    "jp-MarkdownHeadingCollapsed": true,
    "tags": []
   },
   "source": [
    "## Code"
   ]
  },
  {
   "cell_type": "code",
   "execution_count": 113,
   "id": "d353caad-bc0d-403c-aedd-a9a4b5a1ab3d",
   "metadata": {},
   "outputs": [],
   "source": [
    "from matplotlib.path import Path\n",
    "import matplotlib.patches as patches\n",
    "import matplotlib.pyplot as plt\n",
    "\n",
    "import numpy as np\n",
    "import pandas as pd\n",
    "import scipy.interpolate\n",
    "from scipy.stats import norm\n",
    "from typing import Callable"
   ]
  },
  {
   "cell_type": "code",
   "execution_count": 52,
   "id": "29897532-0495-4b51-bd8f-3da7aa90cd80",
   "metadata": {},
   "outputs": [],
   "source": [
    "def spline_approx(\n",
    "    f: Callable[[float], float],\n",
    "    start: float,\n",
    "    end: float,\n",
    "    resolution: int\n",
    "):\n",
    "    step = (end - start) / resolution\n",
    "    x = np.arange(start, end+step, step)\n",
    "    y = np.vectorize(f)(x)\n",
    "    spline = scipy.interpolate.CubicSpline(x, y)\n",
    "    breakpoints = spline.x\n",
    "    coeffs = spline.c\n",
    "    return breakpoints, coeffs"
   ]
  },
  {
   "cell_type": "code",
   "execution_count": 53,
   "id": "fe137bf3-3320-48cf-a8f7-68ad80875645",
   "metadata": {},
   "outputs": [],
   "source": [
    "def get_bezier_points(a, b, c, d, x0, x3) -> pd.Series:\n",
    "    f = lambda x: a*(x-x0)**3 + b*(x-x0)**2 + c*(x-x0) + d\n",
    "    y0 = d\n",
    "    y3 = f(x3)\n",
    "    \n",
    "    x1 = (2*x0+x3)/3\n",
    "    x2 = (2*x3+x0)/3\n",
    "    y1 = c*(x3-x0)/3 + d\n",
    "    y2 = (x3-x0)*(b*(x3-x0) + 2*c)/3 + d\n",
    "    \n",
    "    return pd.Series({\n",
    "        \"x0\": x0,\n",
    "        \"y0\": y0,\n",
    "        \"x1\": x1,\n",
    "        \"y1\": y1,\n",
    "        \"x2\": x2,\n",
    "        \"y2\": y2,\n",
    "        \"x3\": x3,\n",
    "        \"y3\": y3\n",
    "    })"
   ]
  },
  {
   "cell_type": "code",
   "execution_count": 54,
   "id": "8e2ae60a-1e66-44ec-96d1-15dbf6147541",
   "metadata": {},
   "outputs": [],
   "source": [
    "def get_all_bezier_points(breakpoints, coeffs) -> pd.DataFrame:\n",
    "    points = []\n",
    "    for i in range(breakpoints.size-1):\n",
    "        x0 = breakpoints[i]\n",
    "        x1 = breakpoints[i+1]\n",
    "        a = coeffs[0, i]\n",
    "        b = coeffs[1, i]\n",
    "        c = coeffs[2, i]\n",
    "        d = coeffs[3, i]\n",
    "        these_points = get_bezier_points(a, b, c, d, x0, x1)\n",
    "        points.append(these_points)\n",
    "    return pd.DataFrame(points)"
   ]
  },
  {
   "cell_type": "code",
   "execution_count": 55,
   "id": "ce623ca1-d4e2-468b-94f7-ddca80db4d6a",
   "metadata": {},
   "outputs": [],
   "source": [
    "def bezier_approx(\n",
    "    f: Callable[[float], float],\n",
    "    start: float,\n",
    "    end: float,\n",
    "    resolution: int\n",
    "):\n",
    "    breakpoints, coeffs = spline_approx(f, start, end, resolution)\n",
    "    points = get_all_bezier_points(breakpoints, coeffs)\n",
    "    return points"
   ]
  },
  {
   "cell_type": "code",
   "execution_count": 128,
   "id": "1a05cc1a-97b6-4233-ab5e-f5262d989162",
   "metadata": {},
   "outputs": [],
   "source": [
    "def plot_bezier_from_points(points, ymin=0, ymax=10):\n",
    "    fig, ax = plt.subplots()\n",
    "    for _, point in points.iterrows():\n",
    "        patch = patches.PathPatch(\n",
    "            Path([(point[\"x0\"], point[\"y0\"]), (point[\"x1\"], point[\"y1\"]),\n",
    "                  (point[\"x2\"], point[\"y2\"]), (point[\"x3\"], point[\"y3\"])],\n",
    "                 [Path.MOVETO, Path.CURVE4, Path.CURVE4, Path.CURVE4]),\n",
    "            facecolor=\"none\"\n",
    "        )\n",
    "        ax.add_patch(patch)\n",
    "    ax.set_xlim(points.iloc[0][\"x0\"], points.iloc[-1][\"x3\"])\n",
    "    ax.set_ylim(ymin, ymax)\n",
    "    fig.set_size_inches(12, 6)\n",
    "    plt.show()"
   ]
  },
  {
   "cell_type": "markdown",
   "id": "9646a586-fbe1-46fc-b764-8b8faed6441e",
   "metadata": {},
   "source": [
    "## Run"
   ]
  },
  {
   "cell_type": "code",
   "execution_count": 134,
   "id": "10b09f42-b527-43e8-8ce7-b56c64a0b7fe",
   "metadata": {},
   "outputs": [
    {
     "data": {
      "text/html": [
       "<div>\n",
       "<style scoped>\n",
       "    .dataframe tbody tr th:only-of-type {\n",
       "        vertical-align: middle;\n",
       "    }\n",
       "\n",
       "    .dataframe tbody tr th {\n",
       "        vertical-align: top;\n",
       "    }\n",
       "\n",
       "    .dataframe thead th {\n",
       "        text-align: right;\n",
       "    }\n",
       "</style>\n",
       "<table border=\"1\" class=\"dataframe\">\n",
       "  <thead>\n",
       "    <tr style=\"text-align: right;\">\n",
       "      <th></th>\n",
       "      <th>x0</th>\n",
       "      <th>y0</th>\n",
       "      <th>x1</th>\n",
       "      <th>y1</th>\n",
       "      <th>x2</th>\n",
       "      <th>y2</th>\n",
       "      <th>x3</th>\n",
       "      <th>y3</th>\n",
       "    </tr>\n",
       "  </thead>\n",
       "  <tbody>\n",
       "    <tr>\n",
       "      <th>0</th>\n",
       "      <td>-5.0</td>\n",
       "      <td>0.000001</td>\n",
       "      <td>-4.666667</td>\n",
       "      <td>0.000846</td>\n",
       "      <td>-4.333333</td>\n",
       "      <td>0.000143</td>\n",
       "      <td>-4.0</td>\n",
       "      <td>0.000134</td>\n",
       "    </tr>\n",
       "    <tr>\n",
       "      <th>1</th>\n",
       "      <td>-4.0</td>\n",
       "      <td>0.000134</td>\n",
       "      <td>-3.666667</td>\n",
       "      <td>0.000125</td>\n",
       "      <td>-3.333333</td>\n",
       "      <td>0.000811</td>\n",
       "      <td>-3.0</td>\n",
       "      <td>0.004432</td>\n",
       "    </tr>\n",
       "    <tr>\n",
       "      <th>2</th>\n",
       "      <td>-3.0</td>\n",
       "      <td>0.004432</td>\n",
       "      <td>-2.666667</td>\n",
       "      <td>0.008053</td>\n",
       "      <td>-2.333333</td>\n",
       "      <td>0.014610</td>\n",
       "      <td>-2.0</td>\n",
       "      <td>0.053991</td>\n",
       "    </tr>\n",
       "    <tr>\n",
       "      <th>3</th>\n",
       "      <td>-2.0</td>\n",
       "      <td>0.053991</td>\n",
       "      <td>-1.666667</td>\n",
       "      <td>0.093372</td>\n",
       "      <td>-1.333333</td>\n",
       "      <td>0.165578</td>\n",
       "      <td>-1.0</td>\n",
       "      <td>0.241971</td>\n",
       "    </tr>\n",
       "    <tr>\n",
       "      <th>4</th>\n",
       "      <td>-1.0</td>\n",
       "      <td>0.241971</td>\n",
       "      <td>-0.666667</td>\n",
       "      <td>0.318363</td>\n",
       "      <td>-0.333333</td>\n",
       "      <td>0.398942</td>\n",
       "      <td>0.0</td>\n",
       "      <td>0.398942</td>\n",
       "    </tr>\n",
       "    <tr>\n",
       "      <th>5</th>\n",
       "      <td>0.0</td>\n",
       "      <td>0.398942</td>\n",
       "      <td>0.333333</td>\n",
       "      <td>0.398942</td>\n",
       "      <td>0.666667</td>\n",
       "      <td>0.318363</td>\n",
       "      <td>1.0</td>\n",
       "      <td>0.241971</td>\n",
       "    </tr>\n",
       "    <tr>\n",
       "      <th>6</th>\n",
       "      <td>1.0</td>\n",
       "      <td>0.241971</td>\n",
       "      <td>1.333333</td>\n",
       "      <td>0.165578</td>\n",
       "      <td>1.666667</td>\n",
       "      <td>0.093372</td>\n",
       "      <td>2.0</td>\n",
       "      <td>0.053991</td>\n",
       "    </tr>\n",
       "    <tr>\n",
       "      <th>7</th>\n",
       "      <td>2.0</td>\n",
       "      <td>0.053991</td>\n",
       "      <td>2.333333</td>\n",
       "      <td>0.014610</td>\n",
       "      <td>2.666667</td>\n",
       "      <td>0.008053</td>\n",
       "      <td>3.0</td>\n",
       "      <td>0.004432</td>\n",
       "    </tr>\n",
       "    <tr>\n",
       "      <th>8</th>\n",
       "      <td>3.0</td>\n",
       "      <td>0.004432</td>\n",
       "      <td>3.333333</td>\n",
       "      <td>0.000811</td>\n",
       "      <td>3.666667</td>\n",
       "      <td>0.000125</td>\n",
       "      <td>4.0</td>\n",
       "      <td>0.000134</td>\n",
       "    </tr>\n",
       "    <tr>\n",
       "      <th>9</th>\n",
       "      <td>4.0</td>\n",
       "      <td>0.000134</td>\n",
       "      <td>4.333333</td>\n",
       "      <td>0.000143</td>\n",
       "      <td>4.666667</td>\n",
       "      <td>0.000846</td>\n",
       "      <td>5.0</td>\n",
       "      <td>0.000001</td>\n",
       "    </tr>\n",
       "  </tbody>\n",
       "</table>\n",
       "</div>"
      ],
      "text/plain": [
       "    x0        y0        x1        y1        x2        y2   x3        y3\n",
       "0 -5.0  0.000001 -4.666667  0.000846 -4.333333  0.000143 -4.0  0.000134\n",
       "1 -4.0  0.000134 -3.666667  0.000125 -3.333333  0.000811 -3.0  0.004432\n",
       "2 -3.0  0.004432 -2.666667  0.008053 -2.333333  0.014610 -2.0  0.053991\n",
       "3 -2.0  0.053991 -1.666667  0.093372 -1.333333  0.165578 -1.0  0.241971\n",
       "4 -1.0  0.241971 -0.666667  0.318363 -0.333333  0.398942  0.0  0.398942\n",
       "5  0.0  0.398942  0.333333  0.398942  0.666667  0.318363  1.0  0.241971\n",
       "6  1.0  0.241971  1.333333  0.165578  1.666667  0.093372  2.0  0.053991\n",
       "7  2.0  0.053991  2.333333  0.014610  2.666667  0.008053  3.0  0.004432\n",
       "8  3.0  0.004432  3.333333  0.000811  3.666667  0.000125  4.0  0.000134\n",
       "9  4.0  0.000134  4.333333  0.000143  4.666667  0.000846  5.0  0.000001"
      ]
     },
     "execution_count": 134,
     "metadata": {},
     "output_type": "execute_result"
    }
   ],
   "source": [
    "f = lambda x: norm.pdf(x)\n",
    "\n",
    "points = bezier_approx(f, start=-5, end=5, resolution=10)\n",
    "points"
   ]
  },
  {
   "cell_type": "code",
   "execution_count": 135,
   "id": "c4ee6943-a062-44fc-9147-d23c191a2392",
   "metadata": {},
   "outputs": [
    {
     "data": {
      "image/png": "[encoded data removed]",
      "text/plain": [
       "<Figure size 864x432 with 1 Axes>"
      ]
     },
     "metadata": {
      "needs_background": "light"
     },
     "output_type": "display_data"
    }
   ],
   "source": [
    "plot_bezier_from_points(points, ymin=0, ymax=0.5)"
   ]
  },
  {
   "cell_type": "code",
   "execution_count": null,
   "id": "870daf21-9401-4bb1-89f4-e09105994fb3",
   "metadata": {},
   "outputs": [],
   "source": []
  }
 ],
 "metadata": {
  "kernelspec": {
   "display_name": "Python 3 (ipykernel)",
   "language": "python",
   "name": "python3"
  },
  "language_info": {
   "codemirror_mode": {
    "name": "ipython",
    "version": 3
   },
   "file_extension": ".py",
   "mimetype": "text/x-python",
   "name": "python",
   "nbconvert_exporter": "python",
   "pygments_lexer": "ipython3",
   "version": "3.9.6"
  },
  "toc-autonumbering": false
 },
 "nbformat": 4,
 "nbformat_minor": 5
}
